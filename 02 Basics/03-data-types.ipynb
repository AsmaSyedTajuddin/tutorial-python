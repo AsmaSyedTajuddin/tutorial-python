{
 "cells": [
  {
   "cell_type": "markdown",
   "metadata": {},
   "source": [
    "<h1>Examples</h1>"
   ]
  },
  {
   "cell_type": "markdown",
   "metadata": {},
   "source": [
    "<strong>Example #1: Creating Strings</strong>\n",
    "\n",
    "String variables are created by wrapping the value in quotes. You can use single or double quotes."
   ]
  },
  {
   "cell_type": "code",
   "execution_count": null,
   "metadata": {},
   "outputs": [],
   "source": [
    "foo = 'This is a string value.'\n",
    "foo2 = \"This is also a string value.\"\n",
    "\n",
    "print(foo)\n",
    "print(foo2)"
   ]
  },
  {
   "cell_type": "markdown",
   "metadata": {},
   "source": [
    "<strong>Example #2: Creating Booleans</strong>\n",
    "\n",
    "Booleans are both a data type and a value, so you don't have to explicitly assign a variable as a Boolean. As you can see below, when we cast these values to integers, they come out 0 and 1 just like we would expect from basic computer science."
   ]
  },
  {
   "cell_type": "code",
   "execution_count": null,
   "metadata": {},
   "outputs": [],
   "source": [
    "print(int(True))\n",
    "print(int(False))"
   ]
  },
  {
   "cell_type": "markdown",
   "metadata": {},
   "source": [
    "<strong>Example #3: Creating Integers</strong>\n",
    "\n",
    "Creating integers is straight forward. You assign a variable a value that is a number but not a decimal and do not surround the value with quotes."
   ]
  },
  {
   "cell_type": "code",
   "execution_count": null,
   "metadata": {},
   "outputs": [],
   "source": [
    "x = 1\n",
    "y = 2\n",
    "\n",
    "print(x+y)"
   ]
  },
  {
   "cell_type": "markdown",
   "metadata": {},
   "source": [
    "<strong>Example #4: Creating Floats</strong>\n",
    "\n",
    "You create floats by using floating point numbers when you assign a variable a value. Below are some examples. There is also an example of how the imprecision of float can cause problems.\n",
    "\n",
    "If you do the last calculation by hand, you should get an answer of 0. I even plugged it into my TI-84 and got 0. Because it is a float the value of b gets printed out as a non-zero number."
   ]
  },
  {
   "cell_type": "code",
   "execution_count": null,
   "metadata": {},
   "outputs": [],
   "source": [
    "x = 1\n",
    "y = 2.5\n",
    "z = x + y\n",
    "\n",
    "print(z)\n",
    "\n",
    "a = 10e-2\n",
    "\n",
    "print(a)\n",
    "\n",
    "b = .3 - (.1 * 3)\n",
    "\n",
    "print(b) #What is this nonsense?"
   ]
  },
  {
   "cell_type": "markdown",
   "metadata": {},
   "source": [
    "<strong>Example #5: Creating Decimals</strong>\n",
    "\n",
    "An unfortunate thing about creating decimals is that you have to import a module. We will talk about modules in a later lesson, so I am going to hand wave them for now.\n",
    "\n",
    "We are going to fix the issue of the calculation of b from above by passing the Decimal constructor strings in place of float values."
   ]
  },
  {
   "cell_type": "code",
   "execution_count": null,
   "metadata": {},
   "outputs": [],
   "source": [
    "from decimal import *\n",
    "\n",
    "b = Decimal('.3') - (Decimal('.1') * 3)\n",
    "\n",
    "print(b) #That's more like it!"
   ]
  },
  {
   "cell_type": "markdown",
   "metadata": {},
   "source": [
    "Copyright © 2020, Mass Street Analytics, LLC. All Rights Reserved."
   ]
  }
 ],
 "metadata": {
  "kernelspec": {
   "display_name": "Python 3",
   "language": "python",
   "name": "python3"
  },
  "language_info": {
   "codemirror_mode": {
    "name": "ipython",
    "version": 3
   },
   "file_extension": ".py",
   "mimetype": "text/x-python",
   "name": "python",
   "nbconvert_exporter": "python",
   "pygments_lexer": "ipython3",
   "version": "3.8.3"
  }
 },
 "nbformat": 4,
 "nbformat_minor": 4
}
