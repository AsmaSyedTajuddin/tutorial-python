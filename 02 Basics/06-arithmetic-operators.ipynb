{
 "cells": [
  {
   "cell_type": "markdown",
   "metadata": {},
   "source": [
    "<h1>Examples</h1>"
   ]
  },
  {
   "cell_type": "markdown",
   "metadata": {},
   "source": [
    "<strong>Example #1: Basic Math Operations</strong> \n",
    "\n",
    "I want to point out two things. The first is the print statements.\n",
    "\n",
    "Do you see how each variable is preceded by str? That is because those variables are either integers or floats. If we want to smoosh a number together with a string, we have to cast the number as a string and that is what the str method does.\n",
    "\n",
    "The second thing is the value of the division operation. If you are sharp you will see that we divided two integer values. Despite the fact that the result was an integer, the data type of division resulted in a float."
   ]
  },
  {
   "cell_type": "code",
   "execution_count": null,
   "metadata": {},
   "outputs": [],
   "source": [
    "x = 10\n",
    "y = 5\n",
    "\n",
    "addition = x + y\n",
    "subtraction = x - y\n",
    "multiplication = x * y\n",
    "division = x / y\n",
    "integer_division = x // y  \n",
    "modulo = x % y\n",
    "exponent = x ** y\n",
    "\n",
    "print('The result of addition was ' + str(addition))\n",
    "print('The result of subtraction was ' + str(subtraction))\n",
    "print('The result of multiplication was ' + str(multiplication))\n",
    "print('The result of division was ' + str(division))\n",
    "print('The result of integer_division was ' + str(integer_division))\n",
    "print('The result of modulo was ' + str(modulo))\n",
    "print('The result of exponent was ' + str(exponent))"
   ]
  },
  {
   "cell_type": "markdown",
   "metadata": {},
   "source": [
    "Copyright © 2020, Mass Street Analytics, LLC. All Rights Reserved."
   ]
  }
 ],
 "metadata": {
  "kernelspec": {
   "display_name": "Python 3",
   "language": "python",
   "name": "python3"
  },
  "language_info": {
   "codemirror_mode": {
    "name": "ipython",
    "version": 3
   },
   "file_extension": ".py",
   "mimetype": "text/x-python",
   "name": "python",
   "nbconvert_exporter": "python",
   "pygments_lexer": "ipython3",
   "version": "3.8.3"
  }
 },
 "nbformat": 4,
 "nbformat_minor": 4
}
