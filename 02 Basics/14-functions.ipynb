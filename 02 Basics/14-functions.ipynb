{
 "cells": [
  {
   "cell_type": "markdown",
   "metadata": {},
   "source": [
    "<h1>Examples</h1>"
   ]
  },
  {
   "cell_type": "markdown",
   "metadata": {},
   "source": [
    "<strong>Example #1: Hello World! Part II. This Time It’s Personal!</strong>\n",
    "\n",
    "We are going to pull out this old dog and teach it a new trick! Instead of saying hello to every human on the planet, most of whom are jerks, and don’t deserve a hello, we’re going to personalize our greeting by passing in an argument. \n",
    "\n",
    "The argument will be the name of a specific person. That string value will be assigned to the variable we use as a name of the argument in the function. That variable can be referenced in the function."
   ]
  },
  {
   "cell_type": "code",
   "execution_count": null,
   "metadata": {},
   "outputs": [],
   "source": [
    "def hello_world(name):\n",
    "    print('Hello ' + name + '!')\n",
    "\n",
    "hello_world('Bob')"
   ]
  },
  {
   "cell_type": "markdown",
   "metadata": {},
   "source": [
    "<strong>Example #2: Passing In More Than One Argument</strong>\n",
    "\n",
    "Passing in arguments to functions can get CRAZY in Python. You can do all kinds of things like set up default values, or assign arguments based on position or keyword. \n",
    "\n",
    "As a new Python engineer who is only just using the built-in functionality of Python, you will find this kind of flexibility to be useful when you are calling the native functions of Python or Python modules. It is less fun when you are the person that has to implement things that others will use.\n",
    "\n",
    "Before that happens, there are a thousand things that have to happen in order. We are on number eight. Developing modules is number six hundred and ninety-two so we’re going to keep it simple here. \n",
    "\n",
    "The example below has three arguments. You pass in the arguments based on their position in the function call. In other words, the first argument in the function all will get assigned to the first argument in the function definition and so on."
   ]
  },
  {
   "cell_type": "code",
   "execution_count": null,
   "metadata": {},
   "outputs": [],
   "source": [
    "def viper(greeting, temperature, units):\n",
    "    print(greeting + 'The temperature is ' + temperature + ' ' + units + '.')\n",
    "\n",
    "viper('Good morning gentlemen.', '110', 'degrees')"
   ]
  },
  {
   "cell_type": "markdown",
   "metadata": {},
   "source": [
    "<strong>Example #3: Returning Values</strong>\n",
    "\n",
    "Ok here is where I stop screwing around and grim up. Returning values is where functions start to earn their pay. While you can make a function do whatever, usually what you want done is the function to do some repetitive work on some arguments.\n",
    "\n",
    "Below is a trivial example. As we move through this tutorial, you will start to see the value of functions returning values."
   ]
  },
  {
   "cell_type": "code",
   "execution_count": null,
   "metadata": {},
   "outputs": [],
   "source": [
    "def divide(numerator, denominator):\n",
    "    quotient = numerator / denominator\n",
    "    return int(quotient)\n",
    "\n",
    "print(divide(10,5))"
   ]
  },
  {
   "cell_type": "markdown",
   "metadata": {},
   "source": [
    "Copyright © 2020, Mass Street Analytics, LLC. All Rights Reserved."
   ]
  }
 ],
 "metadata": {
  "kernelspec": {
   "display_name": "Python 3",
   "language": "python",
   "name": "python3"
  },
  "language_info": {
   "codemirror_mode": {
    "name": "ipython",
    "version": 3
   },
   "file_extension": ".py",
   "mimetype": "text/x-python",
   "name": "python",
   "nbconvert_exporter": "python",
   "pygments_lexer": "ipython3",
   "version": "3.8.3"
  }
 },
 "nbformat": 4,
 "nbformat_minor": 4
}
