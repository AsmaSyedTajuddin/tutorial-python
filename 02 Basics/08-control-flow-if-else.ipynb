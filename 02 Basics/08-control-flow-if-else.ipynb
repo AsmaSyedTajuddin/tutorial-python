{
 "cells": [
  {
   "cell_type": "markdown",
   "metadata": {},
   "source": [
    "<h1>Examples</h1>"
   ]
  },
  {
   "cell_type": "markdown",
   "metadata": {},
   "source": [
    "<strong>Example #1: Basic If Else Example</strong> "
   ]
  },
  {
   "cell_type": "code",
   "execution_count": null,
   "metadata": {},
   "outputs": [],
   "source": [
    "age = 25\n",
    "\n",
    "if age > 21:\n",
    "    print('You can serve this person beer.')\n",
    "elif 21 > age >=18:\n",
    "    print('No beer. Mark hand with X.')\n",
    "else:\n",
    "    print('Call the bouncer and have this person thrown out.')"
   ]
  },
  {
   "cell_type": "markdown",
   "metadata": {},
   "source": [
    "<strong>Example #2: Nested If Else Example</strong>"
   ]
  },
  {
   "cell_type": "code",
   "execution_count": null,
   "metadata": {},
   "outputs": [],
   "source": [
    "age = 21\n",
    "all_ages_show = True\n",
    "birthday_on_id_equals_today = True\n",
    "\n",
    "if age >= 21:\n",
    "    print('You can serve this person beer.')\n",
    "    if birthday_on_id_equals_today:\n",
    "        print('HAPPY BIRTHDAY! FREE SHOTS!')\n",
    "elif 21 > age >=18:\n",
    "    if all_ages_show:\n",
    "        print('No beer. Mark hand with X.')\n",
    "    else:\n",
    "        print('Call the bouncer and have this person thrown out.')\n",
    "else:\n",
    "    print('Why is there a child in the bar?!')"
   ]
  },
  {
   "cell_type": "markdown",
   "metadata": {},
   "source": [
    "Copyright © 2020, Mass Street Analytics, LLC. All Rights Reserved."
   ]
  }
 ],
 "metadata": {
  "kernelspec": {
   "display_name": "Python 3",
   "language": "python",
   "name": "python3"
  },
  "language_info": {
   "codemirror_mode": {
    "name": "ipython",
    "version": 3
   },
   "file_extension": ".py",
   "mimetype": "text/x-python",
   "name": "python",
   "nbconvert_exporter": "python",
   "pygments_lexer": "ipython3",
   "version": "3.8.3"
  }
 },
 "nbformat": 4,
 "nbformat_minor": 4
}
