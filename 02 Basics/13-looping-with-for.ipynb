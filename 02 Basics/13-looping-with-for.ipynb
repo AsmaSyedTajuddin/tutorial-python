{
 "cells": [
  {
   "cell_type": "markdown",
   "metadata": {},
   "source": [
    "<h1>Examples</h1>"
   ]
  },
  {
   "cell_type": "markdown",
   "metadata": {},
   "source": [
    "<strong>Example #1: Looping Over A List</strong>\n",
    "\n",
    "The variable that you use in your for loop can be referred to in the code block. It represents the current value of the object you are iterating through. \n",
    "\n",
    "You can define the variable yourself, however, in certain use cases, the variable needs to be a Python reserved word. We will take a look at that when we get to looking at looping over files in a directory."
   ]
  },
  {
   "cell_type": "code",
   "execution_count": null,
   "metadata": {},
   "outputs": [],
   "source": [
    "fighters = ['Eagle', 'Falcon', 'Tomcat']\n",
    "\n",
    "for birds in fighters:\n",
    "    print(birds)"
   ]
  },
  {
   "cell_type": "markdown",
   "metadata": {},
   "source": [
    "<strong>Example #2: Looping Over A Tuple</strong>"
   ]
  },
  {
   "cell_type": "code",
   "execution_count": null,
   "metadata": {},
   "outputs": [],
   "source": [
    "lat_long = (38.9984961,-104.8540895)\n",
    "\n",
    "for x in lat_long:\n",
    "    print(x)"
   ]
  },
  {
   "cell_type": "markdown",
   "metadata": {},
   "source": [
    "<strong>Example #3: Looping Over A Dictionary</strong>"
   ]
  },
  {
   "cell_type": "code",
   "execution_count": null,
   "metadata": {},
   "outputs": [],
   "source": [
    "paygrade_translation = {'O1':'2nd Lt','O2':'1st Lt','O3':'Capt'}\n",
    "\n",
    "#Just the keys\n",
    "for description in paygrade_translation.keys():\n",
    "    print(description)"
   ]
  },
  {
   "cell_type": "code",
   "execution_count": null,
   "metadata": {},
   "outputs": [],
   "source": [
    "#Just the values\n",
    "for description in paygrade_translation.values():\n",
    "    print(description)"
   ]
  },
  {
   "cell_type": "code",
   "execution_count": null,
   "metadata": {},
   "outputs": [],
   "source": [
    "#The full key value pair\n",
    "#Notice how we add a second variable that can be referenced in the loop?\n",
    "\n",
    "for paygrade, description in paygrade_translation.items():\n",
    "    print('A paygrade of ' + paygrade + ' is a ' + description)"
   ]
  },
  {
   "cell_type": "markdown",
   "metadata": {},
   "source": [
    "<strong>Example #4: Looping Over A Predefined Range</strong>\n",
    "\n",
    "You can use for like you would in other languages using the range() method. The range method lets you define a range of values to loop over. The method has three parameters that define the range of values. The method can be called with one to three parameters.\n",
    "\n",
    "It is important to remember that the upward bound of the range is NOT inclusive. In other words, if you set an upward bound of 5, the stopping value will be 4."
   ]
  },
  {
   "cell_type": "code",
   "execution_count": null,
   "metadata": {},
   "outputs": [],
   "source": [
    "#Start at zero and you provide the maximum value.\n",
    "\n",
    "for x in range(5):\n",
    "    print(x)"
   ]
  },
  {
   "cell_type": "code",
   "execution_count": null,
   "metadata": {},
   "outputs": [],
   "source": [
    "#You provide the minimum and maximum value.\n",
    "\n",
    "for x in range(15,20):\n",
    "    print(x)"
   ]
  },
  {
   "cell_type": "code",
   "execution_count": null,
   "metadata": {},
   "outputs": [],
   "source": [
    "#You provide the minimum, maximum,and increment value.\n",
    "\n",
    "for x in range(1,10,2):\n",
    "    print(x)"
   ]
  },
  {
   "cell_type": "markdown",
   "metadata": {},
   "source": [
    "Copyright © 2020, Mass Street Analytics, LLC. All Rights Reserved."
   ]
  }
 ],
 "metadata": {
  "kernelspec": {
   "display_name": "Python 3",
   "language": "python",
   "name": "python3"
  },
  "language_info": {
   "codemirror_mode": {
    "name": "ipython",
    "version": 3
   },
   "file_extension": ".py",
   "mimetype": "text/x-python",
   "name": "python",
   "nbconvert_exporter": "python",
   "pygments_lexer": "ipython3",
   "version": "3.8.3"
  }
 },
 "nbformat": 4,
 "nbformat_minor": 4
}
