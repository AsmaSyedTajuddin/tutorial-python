{
 "cells": [
  {
   "cell_type": "markdown",
   "metadata": {},
   "source": [
    "<h1>Examples</h1>"
   ]
  },
  {
   "cell_type": "markdown",
   "metadata": {},
   "source": [
    "<strong>Example #1: Foreshadowing</strong>\n",
    "\n",
    "Hi kids! Do you like data science? Get ready. You are going to be seeing the below a lot. I mean like A LOT!"
   ]
  },
  {
   "cell_type": "code",
   "execution_count": null,
   "metadata": {},
   "outputs": [],
   "source": [
    "import numpy as np\n",
    "import pandas as pd"
   ]
  },
  {
   "cell_type": "markdown",
   "metadata": {},
   "source": [
    "<strong>Example #2: Installing Packages With pip</strong>\n",
    "\n",
    "When we start working with databases, we are going to need a module called pyodbc. \n",
    "\n",
    "Open Anaconda Prompt as administrator and run the following command."
   ]
  },
  {
   "cell_type": "code",
   "execution_count": null,
   "metadata": {},
   "outputs": [],
   "source": [
    "pip install pyodbc"
   ]
  },
  {
   "cell_type": "markdown",
   "metadata": {},
   "source": [
    "<strong>Example #3: Installing Packages With Normal Command Line</strong>\n",
    "\n",
    "So there you are jammin’ on some code in JupyterLab when, all of a sudden, you realize that you need to install a package. \n",
    "\n",
    "BUT WAIT! Anaconda Prompt is running your kernel and you can’t have more than one instance of Anaconda Prompt open at a time. You don’t want to shut down your kernel because that is crazy talk. So what do you do?\n",
    "\n",
    "WHAT? DO? YOU? DO?\n",
    "\n",
    "Fortunately, we won’t have to shoot the hostage. Just open up your normal command line utility for your OS as administrator and make the following adjustments to example 2 to run pip in the normal command line. \n",
    "\n",
    "First, tell your machine that you want to work with Python. Then, let it know that you’re about to invoke a module by using the -m flag. After that, everything else is normal."
   ]
  },
  {
   "cell_type": "code",
   "execution_count": null,
   "metadata": {},
   "outputs": [],
   "source": [
    "python -m pip install pyodbc"
   ]
  },
  {
   "cell_type": "markdown",
   "metadata": {},
   "source": [
    "Copyright © 2020, Mass Street Analytics, LLC. All Rights Reserved."
   ]
  }
 ],
 "metadata": {
  "kernelspec": {
   "display_name": "Python 3",
   "language": "python",
   "name": "python3"
  },
  "language_info": {
   "codemirror_mode": {
    "name": "ipython",
    "version": 3
   },
   "file_extension": ".py",
   "mimetype": "text/x-python",
   "name": "python",
   "nbconvert_exporter": "python",
   "pygments_lexer": "ipython3",
   "version": "3.8.3"
  }
 },
 "nbformat": 4,
 "nbformat_minor": 4
}
