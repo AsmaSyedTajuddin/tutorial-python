{
 "cells": [
  {
   "cell_type": "markdown",
   "metadata": {},
   "source": [
    "<h1>Examples</h1>"
   ]
  },
  {
   "cell_type": "markdown",
   "metadata": {},
   "source": [
    "<strong>Example #1: Convert File To Pipe Delimited</strong>\n",
    "\n",
    "This example downloads the comma delimited flights dataset. \n",
    "\n",
    "For simplicity, we will not write the comma delimited version of the file as it is a relatively small file and fits in memory. Instead, we will read it into memory and then write the pipe delimited version to the PipeDelimitedExample folder.\n",
    "\n",
    "In order to write a file as pipe delimited with the to_csv function, you use the sep argument and set it to |."
   ]
  },
  {
   "cell_type": "code",
   "execution_count": 3,
   "metadata": {},
   "outputs": [],
   "source": [
    "import urllib.request\n",
    "import os\n",
    "import pandas as pd\n",
    "\n",
    "url = 'https://query.data.world/s/paxejv4t6pn3el4ttskmx7rhxhz5ho'\n",
    "script_dir = os.getcwd()\n",
    "data_directory = 'data\\\\'\n",
    "example_directory = 'PipeDelimitedExample\\\\'\n",
    "file_name = 'flights.csv'\n",
    "file_path = os.path.join(script_dir,data_directory,example_directory,file_name)\n",
    "\n",
    "# Read csv data into pandas and write | delimited txt file\n",
    "df = pd.read_csv(url,index_col=False, dtype=str)\n",
    "df.to_csv(file_path, sep=\"|\",index=False)"
   ]
  },
  {
   "cell_type": "markdown",
   "metadata": {},
   "source": [
    "Copyright © 2020, Mass Street Analytics, LLC. All Rights Reserved."
   ]
  }
 ],
 "metadata": {
  "kernelspec": {
   "display_name": "Python 3",
   "language": "python",
   "name": "python3"
  },
  "language_info": {
   "codemirror_mode": {
    "name": "ipython",
    "version": 3
   },
   "file_extension": ".py",
   "mimetype": "text/x-python",
   "name": "python",
   "nbconvert_exporter": "python",
   "pygments_lexer": "ipython3",
   "version": "3.8.3"
  }
 },
 "nbformat": 4,
 "nbformat_minor": 4
}
