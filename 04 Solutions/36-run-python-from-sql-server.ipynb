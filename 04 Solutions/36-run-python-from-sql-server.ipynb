{
 "cells": [
  {
   "cell_type": "markdown",
   "metadata": {},
   "source": [
    "<h1>Examples</h1>"
   ]
  },
  {
   "cell_type": "markdown",
   "metadata": {},
   "source": [
    "<strong>Example #1: Automating An Existing Process</strong>\n",
    "\n",
    "Automating existing manual processes is a frequent task for business analytics professionals. You wrote a script. It does a thing. But you have to keep running it manually and that is getting annoying. Time to beef it up for production and automate it so you can go create cool new things."
   ]
  },
  {
   "cell_type": "markdown",
   "metadata": {},
   "source": [
    "<strong>Example Setup Step 1: File Placement</strong>\n",
    "\n",
    "This is a complex example that requires some set up to run properly. This this is not a tutorial on SQL Server so I have scripted as much for you as I can. These instructions assume that you have followed the directions in Section VIII.\n",
    "\n",
    "Take the Opt folder in your lesson folder and copy it as close to the root of one of your drives as you can.\n",
    "\n",
    "Open lesson-36-ex-1.py and update the value of the variable file_exchange_directory as necessary.\n",
    "\n",
    "Take the file lesson-36-ex-1.py and place it in \\Opt\\DownloadZipFile\\. This example can be found in notebook format, however, the Python script version is what we will actually be running.\n",
    "\n",
    "This is a modified version of our download zip file script. Since the goal is to highlight automation, all we are going to do is download the zip file. We are not going to unpack it.\n",
    "\n",
    "Below, you will notice that relative file paths have been replaced with absolute paths, error handling has been implemented, and sys.exit() is reporting the exit state of the script."
   ]
  },
  {
   "cell_type": "code",
   "execution_count": null,
   "metadata": {},
   "outputs": [],
   "source": [
    "import urllib.request\n",
    "import os\n",
    "import sys\n",
    "from pyunpack import Archive\n",
    "\n",
    "url = 'https://query.data.world/s/vb53nuuux6umwmccbwlajvlzttmz3q'\n",
    "file_exchange_directory = 'C:\\\\FileExchange\\\\'\n",
    "third_party_directory = 'Data.World\\\\'\n",
    "etl_process_directory = 'DownloadZipFile'\n",
    "inbound_directory = 'In\\\\'\n",
    "file_name = 'Eurostat.zip'\n",
    "\n",
    "destination_file = os.path.join(file_exchange_directory, third_party_directory, etl_process_directory, inbound_directory, file_name)\n",
    "\n",
    "try:\n",
    "    with urllib.request.urlopen(url) as source_file:\n",
    "        with open(destination_file, 'wb') as target_file:\n",
    "            target_file.write(source_file.read())\n",
    "\n",
    "except BaseException as e:\n",
    "    print(e)\n",
    "    sys.exit(1)\n",
    "\n",
    "sys.exit(0)"
   ]
  },
  {
   "cell_type": "markdown",
   "metadata": {},
   "source": [
    "<strong>Example Setup Step 2: Set Up The Agent Job</strong>\n",
    "\n",
    "The first order of business is to make sure SQL Server Agent is running. Open SSMS and in the object explorer, find SQL Server Agent at the bottom. The icon should have a green arrow on it. If it has a red X, you will need to troubleshoot the issue. You can do that by coming to the student lounge and asking a question. \n",
    "\n",
    "Open the file CREATE JOB Download Zip File.sql in SSMS and run it. This will create the job that we need to run to execute the Python script. You can find the job by expanding the Jobs folder. \n",
    "\n",
    "<ol>\n",
    "<li>Open the job by double clicking the name. </li><br>\n",
    "<li>Off to the left in “Select a page”, click Steps. </li><br>\n",
    "<li>In the job step list, double click “Execute Script”.</li><br>\n",
    "<li>In the Command window, if necessary, change the path of the Python file.</li><br>\n",
    "<li>Hit ok on the various windows until you have completely exited the job.</li><br>\n",
    "</ol>"
   ]
  },
  {
   "cell_type": "markdown",
   "metadata": {},
   "source": [
    "<strong>Example Setup Step 3: Run The Job</strong>\n",
    "\n",
    "It looks like we are good to go. \n",
    "\n",
    "<strong>LET’S LIGHT THIS CANDLE!</strong>\n",
    "\n",
    "Right click on the job and select “Start Job At Step”.\n",
    "\n",
    "Once the job has completed, go check the In folder for the application output."
   ]
  },
  {
   "cell_type": "markdown",
   "metadata": {},
   "source": [
    "Copyright © 2020, Mass Street Analytics, LLC. All Rights Reserved."
   ]
  }
 ],
 "metadata": {
  "kernelspec": {
   "display_name": "Python 3",
   "language": "python",
   "name": "python3"
  },
  "language_info": {
   "codemirror_mode": {
    "name": "ipython",
    "version": 3
   },
   "file_extension": ".py",
   "mimetype": "text/x-python",
   "name": "python",
   "nbconvert_exporter": "python",
   "pygments_lexer": "ipython3",
   "version": "3.8.3"
  }
 },
 "nbformat": 4,
 "nbformat_minor": 4
}
