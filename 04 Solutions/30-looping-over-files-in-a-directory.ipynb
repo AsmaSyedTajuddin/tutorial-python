{
 "cells": [
  {
   "cell_type": "markdown",
   "metadata": {},
   "source": [
    "<h1>Examples</h1>"
   ]
  },
  {
   "cell_type": "markdown",
   "metadata": {},
   "source": [
    "<strong>Example #1: Loop Over Everything In Folder</strong>"
   ]
  },
  {
   "cell_type": "code",
   "execution_count": null,
   "metadata": {},
   "outputs": [],
   "source": [
    "import os\n",
    "\n",
    "script_dir = os.getcwd()\n",
    "data_directory = 'data\\\\'\n",
    "example_directory = 'FileLoopExample\\\\'\n",
    "path = os.path.join(script_dir,data_directory,example_directory)\n",
    "\n",
    "for filename in os.listdir(path):\n",
    "    print(filename)"
   ]
  },
  {
   "cell_type": "markdown",
   "metadata": {},
   "source": [
    "<strong>Example #2: Loop Over Files With A Specific File Extention</strong>"
   ]
  },
  {
   "cell_type": "code",
   "execution_count": null,
   "metadata": {},
   "outputs": [],
   "source": [
    "import os\n",
    "\n",
    "script_dir = os.getcwd()\n",
    "data_directory = 'data\\\\'\n",
    "example_directory = 'FileLoopExample\\\\'\n",
    "path = os.path.join(script_dir,data_directory,example_directory)\n",
    "\n",
    "for filename in os.listdir(path):\n",
    "    if filename.endswith('.csv'):\n",
    "        print(filename)"
   ]
  },
  {
   "cell_type": "markdown",
   "metadata": {},
   "source": [
    "<strong>Example #3: Loop Over Files In Subdirectories Recursively</strong>"
   ]
  },
  {
   "cell_type": "code",
   "execution_count": null,
   "metadata": {},
   "outputs": [],
   "source": [
    "import os\n",
    "\n",
    "script_dir = os.getcwd()\n",
    "data_directory = 'data\\\\'\n",
    "example_directory = 'FileLoopExample\\\\'\n",
    "path = os.path.join(script_dir,data_directory,example_directory)\n",
    "\n",
    "for subdir, dirs, files in os.walk(path):\n",
    "     for filename in files:\n",
    "            print(filename)"
   ]
  },
  {
   "cell_type": "markdown",
   "metadata": {},
   "source": [
    "Copyright © 2020, Mass Street Analytics, LLC. All Rights Reserved."
   ]
  }
 ],
 "metadata": {
  "kernelspec": {
   "display_name": "Python 3",
   "language": "python",
   "name": "python3"
  },
  "language_info": {
   "codemirror_mode": {
    "name": "ipython",
    "version": 3
   },
   "file_extension": ".py",
   "mimetype": "text/x-python",
   "name": "python",
   "nbconvert_exporter": "python",
   "pygments_lexer": "ipython3",
   "version": "3.8.3"
  }
 },
 "nbformat": 4,
 "nbformat_minor": 4
}
