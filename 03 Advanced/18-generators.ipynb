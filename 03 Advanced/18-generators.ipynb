{
 "cells": [
  {
   "cell_type": "markdown",
   "metadata": {},
   "source": [
    "<h1>Examples</h1>"
   ]
  },
  {
   "cell_type": "markdown",
   "metadata": {},
   "source": [
    "<strong>Example #1: Function Method</strong>\n",
    "\n",
    "Let's create an iterator using Generator by reversing Some company's revenue in million dollars for one week."
   ]
  },
  {
   "cell_type": "code",
   "execution_count": null,
   "metadata": {},
   "outputs": [],
   "source": [
    "def reverse_revenue_generator(x):\n",
    "    i = len(x)-1\n",
    "    while i>=0:\n",
    "        yield x[i]\n",
    "        i-=1\n",
    "\n",
    "#company's revenue\n",
    "revenue = [3,4,10,11,18,21,39]\n",
    "\n",
    "for rev in reverse_revenue_generator(revenue):\n",
    "    print(rev)"
   ]
  },
  {
   "cell_type": "markdown",
   "metadata": {},
   "source": [
    "<strong>Example #2: Expression Method</strong>\n",
    "\n",
    "Using the expression method."
   ]
  },
  {
   "cell_type": "code",
   "execution_count": null,
   "metadata": {},
   "outputs": [],
   "source": [
    "# creating a list of numbers\n",
    "some_vals = [1, 16, 81, 100]\n",
    "\n",
    "# take square root of each term\n",
    "list_ = [x**0.5 for x in some_vals]\n",
    "\n",
    "# This can be done using a generator expression\n",
    "# generator expressions are surrounded by parenthesis ()\n",
    "genr = (x**0.5 for x in some_vals)\n",
    "\n",
    "print(list_)\n",
    "print(*genr)"
   ]
  },
  {
   "cell_type": "markdown",
   "metadata": {},
   "source": [
    "Copyright © 2020, Mass Street Analytics, LLC. All Rights Reserved."
   ]
  }
 ],
 "metadata": {
  "kernelspec": {
   "display_name": "Python 3",
   "language": "python",
   "name": "python3"
  },
  "language_info": {
   "codemirror_mode": {
    "name": "ipython",
    "version": 3
   },
   "file_extension": ".py",
   "mimetype": "text/x-python",
   "name": "python",
   "nbconvert_exporter": "python",
   "pygments_lexer": "ipython3",
   "version": "3.8.3"
  }
 },
 "nbformat": 4,
 "nbformat_minor": 4
}
