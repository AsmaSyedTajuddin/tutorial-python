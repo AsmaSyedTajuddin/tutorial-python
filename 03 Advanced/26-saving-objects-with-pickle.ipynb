{
 "cells": [
  {
   "cell_type": "markdown",
   "metadata": {},
   "source": [
    "<h1>Examples</h1>"
   ]
  },
  {
   "cell_type": "markdown",
   "metadata": {},
   "source": [
    "<strong>Example #1: Saving A Dict</strong>\n",
    "\n",
    "Let's save an employee's information into file using pickle. Run the code below then look in the example folder for the output."
   ]
  },
  {
   "cell_type": "code",
   "execution_count": null,
   "metadata": {},
   "outputs": [],
   "source": [
    "import pandas as pd\n",
    "import shutil\n",
    "import glob\n",
    "import os\n",
    "import pickle\n",
    "\n",
    "if not 'script_dir' in globals():\n",
    "    script_dir = os.getcwd()\n",
    "    \n",
    "data_directory = 'data\\\\'\n",
    "example_directory = 'PickleExample\\\\'\n",
    "target_file_name = 'employee.txt'\n",
    "\n",
    "target_path = os.path.join(script_dir, data_directory, example_directory, target_file_name)\n",
    "\n",
    "employee = {\"Name\": \"Sam\", \"Age\":25, \"Height\": 177, \"Country\" : \"Brazil\"}\n",
    "\n",
    "filename = open(target_path,'wb')\n",
    "pickle.dump(employee, filename)\n",
    "filename.close()"
   ]
  },
  {
   "cell_type": "code",
   "execution_count": null,
   "metadata": {},
   "outputs": [],
   "source": [
    "#Here is how you will unpickle a saved file.\n",
    "inputFile = open(target_path,'rb')\n",
    "loaded_object = pickle.load(inputFile)\n",
    "inputFile.close()\n",
    "\n",
    "print(loaded_object)"
   ]
  },
  {
   "cell_type": "markdown",
   "metadata": {},
   "source": [
    "<strong>Example #2: Saving A List</strong>\n",
    "\n",
    "Let's save a list into file using pickle."
   ]
  },
  {
   "cell_type": "code",
   "execution_count": null,
   "metadata": {},
   "outputs": [],
   "source": [
    "grades = [34,53,23,56,67,74,3,33,2,6,7,8,83,34,2,34,64,65]\n",
    "\n",
    "target_file_name = 'grades.txt'\n",
    "target_path = os.path.join(script_dir, data_directory, example_directory, target_file_name)\n",
    "\n",
    "filename = open(target_path,'wb')\n",
    "pickle.dump(grades,filename)\n",
    "filename.close()"
   ]
  },
  {
   "cell_type": "code",
   "execution_count": null,
   "metadata": {},
   "outputs": [],
   "source": [
    "#Here is how you will unpickle a saved file.\n",
    "inputFile = open(target_path,'rb')\n",
    "loaded_object = pickle.load(inputFile)\n",
    "inputFile.close()\n",
    "\n",
    "print(loaded_object)"
   ]
  },
  {
   "cell_type": "markdown",
   "metadata": {},
   "source": [
    "Copyright © 2020, Mass Street Analytics, LLC. All Rights Reserved."
   ]
  }
 ],
 "metadata": {
  "kernelspec": {
   "display_name": "Python 3",
   "language": "python",
   "name": "python3"
  },
  "language_info": {
   "codemirror_mode": {
    "name": "ipython",
    "version": 3
   },
   "file_extension": ".py",
   "mimetype": "text/x-python",
   "name": "python",
   "nbconvert_exporter": "python",
   "pygments_lexer": "ipython3",
   "version": "3.8.3"
  }
 },
 "nbformat": 4,
 "nbformat_minor": 4
}
