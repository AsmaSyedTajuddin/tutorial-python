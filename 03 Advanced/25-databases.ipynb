{
 "cells": [
  {
   "cell_type": "markdown",
   "metadata": {},
   "source": [
    "<h1>Examples</h1>"
   ]
  },
  {
   "cell_type": "markdown",
   "metadata": {},
   "source": [
    "<strong>Example #1: Git It Yo Self Service</strong>\n",
    "\n",
    "If you know SQL, you do not have to wait for someone to get you your data. You can just grab it yourself from the database.\n",
    "\n",
    "The process you see below is fairly common across all programming languages.\n",
    "\n",
    "<ol>\n",
    "<li>Set up your query.</li>\n",
    "<li>Set up your connection.</li>\n",
    "<li>Execute your query.</li>\n",
    "<li>Go to town.</li>\n",
    "</ol>"
   ]
  },
  {
   "cell_type": "code",
   "execution_count": null,
   "metadata": {},
   "outputs": [],
   "source": [
    "import os\n",
    "import pyodbc as db\n",
    "import time\n",
    "import pandas as pd\n",
    "\n",
    "#Prep query\n",
    "sql = 'SELECT BusinessEntityID, AnnualSales, AnnualRevenue, SquareFeet, NumberEmployees' \n",
    "sql = sql + ' ' + 'FROM Sales.vStoreWithDemographics'\n",
    "\n",
    "#Set up the connection.\n",
    "connection_string = 'DSN=AdventureWorks;'\n",
    "conn = db.connect(connection_string)\n",
    "\n",
    "#Execute the query.\n",
    "result_set = pd.read_sql(sql, conn, index_col = 'BusinessEntityID')\n",
    "\n",
    "#Review the data.\n",
    "#Set option used here to make describe output easier to read.\n",
    "pd.set_option('display.float_format', lambda x: '%.2f' % x)\n",
    "result_set.describe()"
   ]
  },
  {
   "cell_type": "markdown",
   "metadata": {},
   "source": [
    "Copyright © 2020, Mass Street Analytics, LLC. All Rights Reserved."
   ]
  }
 ],
 "metadata": {
  "kernelspec": {
   "display_name": "Python 3",
   "language": "python",
   "name": "python3"
  },
  "language_info": {
   "codemirror_mode": {
    "name": "ipython",
    "version": 3
   },
   "file_extension": ".py",
   "mimetype": "text/x-python",
   "name": "python",
   "nbconvert_exporter": "python",
   "pygments_lexer": "ipython3",
   "version": "3.8.3"
  }
 },
 "nbformat": 4,
 "nbformat_minor": 4
}
