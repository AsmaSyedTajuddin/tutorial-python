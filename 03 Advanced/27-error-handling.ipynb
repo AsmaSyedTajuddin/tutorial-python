{
 "cells": [
  {
   "cell_type": "markdown",
   "metadata": {},
   "source": [
    "<h1>Examples</h1>"
   ]
  },
  {
   "cell_type": "markdown",
   "metadata": {},
   "source": [
    "<strong>Example #1: Basic Error Handling Hello World</strong>\n",
    "\n",
    "Every error handling example starts with a divide by zero error."
   ]
  },
  {
   "cell_type": "code",
   "execution_count": null,
   "metadata": {},
   "outputs": [],
   "source": [
    "numerator = 1\n",
    "denominator = 0\n",
    "\n",
    "try:\n",
    "    numerator/denominator\n",
    "except Exception as e:\n",
    "    print(e)\n",
    "else:\n",
    "    print('Flip the values to see this message.')\n",
    "finally:\n",
    "    print('This is going to show anyway.')"
   ]
  },
  {
   "cell_type": "markdown",
   "metadata": {},
   "source": [
    "<strong>Example #2: Using Built-in Exceptions</strong>\n",
    "\n",
    "You can catch errors by using the Exception class, but if you really want to get fancy, you can catch specific errors. Catching errors this way allows you to develop gentler error messages than the intimidating trace you’d normally get with a bare error.\n",
    "\n",
    "A list of built-in exceptions can be found <a href=\"https://docs.python.org/3/library/exceptions.html\" target=\"_blank\">here</a>."
   ]
  },
  {
   "cell_type": "code",
   "execution_count": null,
   "metadata": {},
   "outputs": [],
   "source": [
    "import os\n",
    "import pandas as pd\n",
    "\n",
    "script_dir = os.getcwd()\n",
    "data_directory = 'data\\\\'\n",
    "example_directory = 'BuiltInExceptionExample\\\\'\n",
    "file_name = 'NonExistingFile.txt'\n",
    "abs_file_path = os.path.join(script_dir, data_directory, example_directory, file_name)\n",
    "\n",
    "try:\n",
    "    pd.read_csv(abs_file_path)\n",
    "except FileNotFoundError:\n",
    "    print('No file here yo!')"
   ]
  },
  {
   "cell_type": "markdown",
   "metadata": {},
   "source": [
    "<strong>Example #3: Using Exceptions In Modules</strong>\n",
    "\n",
    "Finally, modules also come with exceptions."
   ]
  },
  {
   "cell_type": "code",
   "execution_count": null,
   "metadata": {},
   "outputs": [],
   "source": [
    "import urllib.request\n",
    "import urllib.error as ue\n",
    "\n",
    "url = 'http://www.bobwakefield.com/'\n",
    "\n",
    "try:\n",
    "    urllib.request.urlopen(url)\n",
    "except ue.URLError:\n",
    "    print('Website does not exist.')"
   ]
  },
  {
   "cell_type": "markdown",
   "metadata": {},
   "source": [
    "Copyright © 2020, Mass Street Analytics, LLC. All Rights Reserved."
   ]
  }
 ],
 "metadata": {
  "kernelspec": {
   "display_name": "Python 3",
   "language": "python",
   "name": "python3"
  },
  "language_info": {
   "codemirror_mode": {
    "name": "ipython",
    "version": 3
   },
   "file_extension": ".py",
   "mimetype": "text/x-python",
   "name": "python",
   "nbconvert_exporter": "python",
   "pygments_lexer": "ipython3",
   "version": "3.8.3"
  }
 },
 "nbformat": 4,
 "nbformat_minor": 4
}
