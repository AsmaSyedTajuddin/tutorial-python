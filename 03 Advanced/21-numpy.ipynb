{
 "cells": [
  {
   "cell_type": "markdown",
   "metadata": {},
   "source": [
    "<h1>Examples</h1>"
   ]
  },
  {
   "cell_type": "markdown",
   "metadata": {},
   "source": [
    "<strong>Example #1: MOAR Looping!</strong>\n",
    "\n",
    "Let say a class has the following grades where all students failed. The teacher decides to double the grade of each student to pass some. Here is how you would have done it using builtin arrys and loops.You can it do the same using numpy without looping over data yourself. Here is how you can do it with numpy."
   ]
  },
  {
   "cell_type": "code",
   "execution_count": null,
   "metadata": {},
   "outputs": [],
   "source": [
    "import numpy as np\n",
    "\n",
    "grades = [20,10,30,40,10,20,12,14,15,16,14,12,16]\n",
    "\n",
    "#old and busted\n",
    "new_grades = []\n",
    "for grade in grades:\n",
    "    new_grades.append(grade*2)\n",
    "print(new_grades)\n",
    "\n",
    "#new hotness\n",
    "grades = np.array(grades)\n",
    "new_grades = grades*2\n",
    "print(new_grades)"
   ]
  },
  {
   "cell_type": "markdown",
   "metadata": {},
   "source": [
    "<strong>Example #2: Descriptive Statistics </strong>\n",
    "\n",
    "Finding min,max,avg and other such numerical information of grades becomes a lot easier. "
   ]
  },
  {
   "cell_type": "code",
   "execution_count": null,
   "metadata": {},
   "outputs": [],
   "source": [
    "min_grade = grades.min()\n",
    "max_grade = grades.max()\n",
    "avg_grade = grades.sum()/len(grades)\n",
    "\n",
    "print(\"Min grade: \",min_grade)\n",
    "print(\"Max grade: \",max_grade)\n",
    "print(\"Avg grade: \",avg_grade)"
   ]
  },
  {
   "cell_type": "markdown",
   "metadata": {},
   "source": [
    "<strong>Example #3: Selecting And Filtering Values</strong>\n",
    "\n",
    "Let's select all students having grades less than 25 and let's find max gradeof students meeting the above condition."
   ]
  },
  {
   "cell_type": "code",
   "execution_count": null,
   "metadata": {},
   "outputs": [],
   "source": [
    "grades[grades<25]"
   ]
  },
  {
   "cell_type": "code",
   "execution_count": null,
   "metadata": {},
   "outputs": [],
   "source": [
    "grades[grades<25].max()"
   ]
  },
  {
   "cell_type": "markdown",
   "metadata": {},
   "source": [
    "Copyright © 2020, Mass Street Analytics, LLC. All Rights Reserved."
   ]
  }
 ],
 "metadata": {
  "kernelspec": {
   "display_name": "Python 3",
   "language": "python",
   "name": "python3"
  },
  "language_info": {
   "codemirror_mode": {
    "name": "ipython",
    "version": 3
   },
   "file_extension": ".py",
   "mimetype": "text/x-python",
   "name": "python",
   "nbconvert_exporter": "python",
   "pygments_lexer": "ipython3",
   "version": "3.8.3"
  }
 },
 "nbformat": 4,
 "nbformat_minor": 4
}
