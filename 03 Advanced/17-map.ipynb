{
 "cells": [
  {
   "cell_type": "markdown",
   "metadata": {},
   "source": [
    "<h1>Examples</h1>"
   ]
  },
  {
   "cell_type": "markdown",
   "metadata": {},
   "source": [
    "<strong>Example #1: This Example Has No Name </strong>\n",
    "\n",
    "Below is an example of an anonymous function. First, we review example 3 of lesson 14. Then we re-engineer it as an anonymous function. As you can see, the same thing can be achieved with much less code."
   ]
  },
  {
   "cell_type": "code",
   "execution_count": null,
   "metadata": {},
   "outputs": [],
   "source": [
    "#original function\n",
    "def divide(numerator, denominator):\n",
    "    quotient = numerator / denominator\n",
    "    return int(quotient)\n",
    "\n",
    "print(divide(10,5))"
   ]
  },
  {
   "cell_type": "code",
   "execution_count": null,
   "metadata": {},
   "outputs": [],
   "source": [
    "#SHAZAM!\n",
    "divide = lambda x,y: int(x / y)\n",
    "\n",
    "print(divide(10,5))"
   ]
  },
  {
   "cell_type": "markdown",
   "metadata": {},
   "source": [
    "<strong>Example #2: A Different Kind Of Loop</strong>\n",
    "\n",
    "This example does not show the real power of map. We will not see that until we start using Python for data analysis. For now, here is a different way to iterate over a list of values.\n",
    "\n",
    "The map function simply returns an object so before we can print it to the screen, we have to turn it into a list."
   ]
  },
  {
   "cell_type": "code",
   "execution_count": null,
   "metadata": {},
   "outputs": [],
   "source": [
    "count = [1,2,3,4,5]\n",
    "\n",
    "newcount = list(map(lambda x: x + 1, count))\n",
    "\n",
    "print(newcount)"
   ]
  },
  {
   "cell_type": "markdown",
   "metadata": {},
   "source": [
    "Copyright © 2020, Mass Street Analytics, LLC. All Rights Reserved."
   ]
  }
 ],
 "metadata": {
  "kernelspec": {
   "display_name": "Python 3",
   "language": "python",
   "name": "python3"
  },
  "language_info": {
   "codemirror_mode": {
    "name": "ipython",
    "version": 3
   },
   "file_extension": ".py",
   "mimetype": "text/x-python",
   "name": "python",
   "nbconvert_exporter": "python",
   "pygments_lexer": "ipython3",
   "version": "3.8.3"
  }
 },
 "nbformat": 4,
 "nbformat_minor": 4
}
