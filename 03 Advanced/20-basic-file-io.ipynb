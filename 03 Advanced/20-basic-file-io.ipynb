{
 "cells": [
  {
   "cell_type": "markdown",
   "metadata": {},
   "source": [
    "<h1>Examples</h1>"
   ]
  },
  {
   "cell_type": "markdown",
   "metadata": {},
   "source": [
    "<strong>Example #1: Move A File</strong>\n",
    "\n",
    "AKA cut and paste. Moving files is a fast operation because we are just changing a pointer to the ones and zeros to point to something else. We are not actually pushing bits around disk to make the move happen.\n",
    "\n",
    "The module shutil is filled with all kinds of file handling goodies.\n",
    "\n",
    "In the root of the example directory is a small file. While it is in the root folder, it is simulating being outside the boundaries of the data warehouse environment. Let’s bring it inside by moving it to the In folder."
   ]
  },
  {
   "cell_type": "code",
   "execution_count": null,
   "metadata": {},
   "outputs": [],
   "source": [
    "import shutil as sh\n",
    "import os\n",
    "\n",
    "if not 'script_dir' in globals():\n",
    "    script_dir = os.getcwd()\n",
    "    \n",
    "data_directory = 'data\\\\'\n",
    "example_directory = 'BasicFileOpsExample\\\\'\n",
    "target_directory = 'In\\\\'\n",
    "file_name = 'forestfires.csv'\n",
    "\n",
    "source_path = os.path.join(script_dir,data_directory,example_directory,file_name)\n",
    "target_path = os.path.join(script_dir,data_directory,example_directory,target_directory,file_name)\n",
    "\n",
    "sh.move(source_path, target_path)"
   ]
  },
  {
   "cell_type": "markdown",
   "metadata": {},
   "source": [
    "<strong>Example #2: Archiving A File</strong>\n",
    "\n",
    "We are now done processing the file and we need to archive it in case we need to drag it out and reload the system. \n",
    "\n",
    "The process of archiving is multi step.\n",
    "<ol>\n",
    "<li> Zip up the file.</li><br>\n",
    "<li> Move the file to the Archive folder.</li><br>\n",
    "<li> Blow away the original.</li><br>\n",
    "</ol>\n",
    "\n",
    "Once you run the example, check the Archive folder and the In folder. You should see a zip file in Archive and nothing in the In folder."
   ]
  },
  {
   "cell_type": "code",
   "execution_count": null,
   "metadata": {},
   "outputs": [],
   "source": [
    "import zipfile as zf\n",
    "import os\n",
    "\n",
    "if not 'script_dir' in globals():\n",
    "    script_dir = os.getcwd()\n",
    "    \n",
    "data_directory = 'data\\\\'\n",
    "example_directory = 'BasicFileOpsExample\\\\'\n",
    "source_directory = 'In\\\\'\n",
    "target_directory = 'Archive\\\\'\n",
    "file_name = 'forestfires.csv'\n",
    "archive_name = 'forestfires.zip'\n",
    "\n",
    "target_path = os.path.join(script_dir,data_directory,example_directory,target_directory,archive_name)\n",
    "source_path = os.path.join(data_directory,example_directory,source_directory)\n",
    "\n",
    "archive = zf.ZipFile(target_path, \"w\")\n",
    "os.chdir(source_path)\n",
    "archive.write(file_name)\n",
    "archive.close()"
   ]
  },
  {
   "cell_type": "markdown",
   "metadata": {},
   "source": [
    "Copyright © 2020, Mass Street Analytics, LLC. All Rights Reserved."
   ]
  }
 ],
 "metadata": {
  "kernelspec": {
   "display_name": "Python 3",
   "language": "python",
   "name": "python3"
  },
  "language_info": {
   "codemirror_mode": {
    "name": "ipython",
    "version": 3
   },
   "file_extension": ".py",
   "mimetype": "text/x-python",
   "name": "python",
   "nbconvert_exporter": "python",
   "pygments_lexer": "ipython3",
   "version": "3.8.3"
  }
 },
 "nbformat": 4,
 "nbformat_minor": 4
}
