{
 "cells": [
  {
   "cell_type": "markdown",
   "metadata": {},
   "source": [
    "<h1>Examples</h1>"
   ]
  },
  {
   "cell_type": "markdown",
   "metadata": {},
   "source": [
    "<strong>Example #1: Importing Data From CSV File</strong>\n",
    "\n",
    "You can import any excel sheet into pandas DataFrame, but for sake of this tutorial, I am going to load this open source titanic dataset. "
   ]
  },
  {
   "cell_type": "code",
   "execution_count": null,
   "metadata": {},
   "outputs": [],
   "source": [
    "import pandas as pd\n",
    "import shutil\n",
    "import glob\n",
    "import os\n",
    "\n",
    "if not 'script_dir' in globals():\n",
    "    script_dir = os.getcwd()\n",
    "data_directory = 'data\\\\'\n",
    "example_directory = 'PandasExample\\\\'\n",
    "source_file_name = 'titanic.csv'\n",
    "target_file_name = 'female_dataset.csv'\n",
    "\n",
    "source_path = os.path.join(script_dir, data_directory, example_directory, file_name)\n",
    "target_path = os.path.join(script_dir, data_directory, example_directory, target_file_name)\n",
    "\n",
    "#Import and show top five rows.\n",
    "dataset = pd.read_csv(source_path)\n",
    "dataset.head(5)"
   ]
  },
  {
   "cell_type": "markdown",
   "metadata": {},
   "source": [
    "<strong>Example #2: Exploring Your Data</strong>\n",
    "\n",
    "Below is some basic exploritory data analysis."
   ]
  },
  {
   "cell_type": "code",
   "execution_count": null,
   "metadata": {},
   "outputs": [],
   "source": [
    "dataset.describe()"
   ]
  },
  {
   "cell_type": "code",
   "execution_count": null,
   "metadata": {},
   "outputs": [],
   "source": [
    "#Let's only select femal passenger's data\n",
    "female_dataset = dataset[dataset.Sex == \"female\"]\n",
    "female_dataset.head(5)"
   ]
  },
  {
   "cell_type": "markdown",
   "metadata": {},
   "source": [
    "<strong>Example #3: Writing DataFrames To Disk</strong>\n",
    "\n",
    "Let's save the new dataset into csv file Piple delimited. The default delimiter is comma (You can use any delimiter). Run the code and check the example folder for the new file."
   ]
  },
  {
   "cell_type": "code",
   "execution_count": null,
   "metadata": {},
   "outputs": [],
   "source": [
    "female_dataset.to_csv(target_path, sep='|')"
   ]
  },
  {
   "cell_type": "markdown",
   "metadata": {},
   "source": [
    "Copyright © 2020, Mass Street Analytics, LLC. All Rights Reserved."
   ]
  }
 ],
 "metadata": {
  "kernelspec": {
   "display_name": "Python 3",
   "language": "python",
   "name": "python3"
  },
  "language_info": {
   "codemirror_mode": {
    "name": "ipython",
    "version": 3
   },
   "file_extension": ".py",
   "mimetype": "text/x-python",
   "name": "python",
   "nbconvert_exporter": "python",
   "pygments_lexer": "ipython3",
   "version": "3.8.3"
  }
 },
 "nbformat": 4,
 "nbformat_minor": 4
}
