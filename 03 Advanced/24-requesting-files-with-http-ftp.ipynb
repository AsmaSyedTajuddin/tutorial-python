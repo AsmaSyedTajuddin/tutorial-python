{
 "cells": [
  {
   "cell_type": "markdown",
   "metadata": {},
   "source": [
    "<h1>Examples</h1>"
   ]
  },
  {
   "cell_type": "markdown",
   "metadata": {},
   "source": [
    "<strong>Example #1: Where’s The Beef?!</strong>\n",
    "\n",
    "Acquiring data from the internet is often not as straight forward as dropping a URL in a script. In some cases, in order to get the data that you want, you have to pass in URL variables. Below is a good example of this.\n",
    "\n",
    "We are going to download some beef data from the USDA website. We are going to pull down an XML file, but the file is not sitting static on the server. The file is built from a reports generating application on the USDA server. \n",
    "\n",
    "Normally users get their data by using the web application’s GUI. But we need to automate things. So, the strategy is to use the GUI once. When you do that, you take note of the query string that gets built in the URL. Then you make Python variables out of any URL parameters. Now you can bypass the GUI and automate the process of downloading the data."
   ]
  },
  {
   "cell_type": "code",
   "execution_count": null,
   "metadata": {},
   "outputs": [],
   "source": [
    "import urllib\n",
    "import os\n",
    "\n",
    "report_date = '09/01/2020'\n",
    "\n",
    "if not 'script_dir' in globals():\n",
    "    script_dir = os.getcwd()\n",
    "data_directory = 'data\\\\'\n",
    "example_directory = 'HTTPAndFTPExample\\\\'\n",
    "file_name = 'BeefReport.xml'\n",
    "\n",
    "target_path = os.path.join(script_dir,data_directory,example_directory,file_name)\n",
    "\n",
    "url = 'https://mpr.datamart.ams.usda.gov/ws/report/v1/beef/LM_XB459?'\n",
    "url = url + 'filter={%22filters%22:[{%22fieldName%22:%22Report%20date%22,'\n",
    "url = url + '%22operatorType%22:%22GREATER%22,%22values%22:[%22' + report_date + '%22]}]}'\n",
    "\n",
    "with urllib.request.urlopen(url) as source_file:\n",
    "    with open(target_path, 'wb') as target_file:\n",
    "        target_file.write(source_file.read())"
   ]
  },
  {
   "cell_type": "markdown",
   "metadata": {},
   "source": [
    "<strong>Example #2: Download Files Like You’re CIA</strong>\n",
    "\n",
    "We are going to use a test SFTP server called Rebex. The protocols for server access can be found at <a href=\"https://test.rebex.net/\" target=\"_blank\"> https://test.rebex.net</a>.\n",
    "\n",
    "If you go to that site and look at the SFTP protocol, you will find the following settings.\n",
    "\n",
    "host: test.rebex.net\n",
    "\n",
    "username: demo\n",
    "\n",
    "password: password\n",
    "\n",
    "port: 22\n",
    "\n",
    "Plug those settings into your FTP tool and log into the server. Navigate around and see if you can find an interesting file to download. For this example, we are going to keep is simple and just grab the readme.txt file from the root folder.\n",
    "\n",
    "This is a simplified example for clarity. Below you will see the line where we set cnopts.hostkeys = None. This actually leaves you open to something called a \"man in the middle\" attack. In a real scenario, you would have to use something called a host key. We will tackle that in the solutions section."
   ]
  },
  {
   "cell_type": "code",
   "execution_count": null,
   "metadata": {},
   "outputs": [],
   "source": [
    "import urllib\n",
    "import os\n",
    "import pysftp\n",
    "\n",
    "report_date = '09/01/2020'\n",
    "\n",
    "if not 'script_dir' in globals():\n",
    "    script_dir = os.getcwd()\n",
    "data_directory = 'data\\\\'\n",
    "example_directory = 'HTTPAndFTPExample\\\\'\n",
    "file_name = 'readme.txt'\n",
    "known_host = 'known_host'\n",
    "\n",
    "host = 'test.rebex.net'\n",
    "username = 'demo'\n",
    "password = 'password'\n",
    "\n",
    "target_path = os.path.join(script_dir,data_directory,example_directory,file_name)\n",
    "known_host_path = os.path.join(script_dir,data_directory,example_directory,known_host)\n",
    "\n",
    "cnopts = pysftp.CnOpts()\n",
    "cnopts.hostkeys = None  \n",
    "\n",
    "with pysftp.Connection(host = host, username = username, password = password, cnopts=cnopts) as sftp:\n",
    "        sftp.get(file_name, target_path)"
   ]
  },
  {
   "cell_type": "markdown",
   "metadata": {},
   "source": [
    "Copyright © 2020, Mass Street Analytics, LLC. All Rights Reserved."
   ]
  }
 ],
 "metadata": {
  "kernelspec": {
   "display_name": "Python 3",
   "language": "python",
   "name": "python3"
  },
  "language_info": {
   "codemirror_mode": {
    "name": "ipython",
    "version": 3
   },
   "file_extension": ".py",
   "mimetype": "text/x-python",
   "name": "python",
   "nbconvert_exporter": "python",
   "pygments_lexer": "ipython3",
   "version": "3.8.3"
  }
 },
 "nbformat": 4,
 "nbformat_minor": 4
}
